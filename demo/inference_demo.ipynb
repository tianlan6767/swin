{
 "cells": [
  {
   "cell_type": "code",
   "execution_count": 1,
   "metadata": {},
   "outputs": [
    {
     "name": "stderr",
     "output_type": "stream",
     "text": [
      "/opt/conda/envs/swin/lib/python3.8/site-packages/tqdm/auto.py:22: TqdmWarning: IProgress not found. Please update jupyter and ipywidgets. See https://ipywidgets.readthedocs.io/en/stable/user_install.html\n",
      "  from .autonotebook import tqdm as notebook_tqdm\n"
     ]
    }
   ],
   "source": [
    "from mmdet.apis import init_detector, inference_detector, show_result_pyplot\n",
    "import mmcv"
   ]
  },
  {
   "cell_type": "code",
   "execution_count": 2,
   "metadata": {},
   "outputs": [],
   "source": [
    "config_file = \"/work/Swin-Transformer-Object-Detection/configs/swin/mask_rcnn_swin_tiny_patch4_window7_mstrain_480-800_adamw_3x_coco.py\"\n",
    "# download the checkpoint from model zoo and put it in `checkpoints/\n",
    "# url: http://download.openmmlab.com/mmdetection/v2.0/faster_rcnn/faster_rcnn_r50_fpn_1x_coco/faster_rcnn_r50_fpn_1x_coco_20200130-047c8118.pth\n",
    "checkpoint_file = \"/work/Swin-Transformer-Object-Detection/work_dirs/run/train2/epoch_3200.pth\""
   ]
  },
  {
   "cell_type": "code",
   "execution_count": 3,
   "metadata": {},
   "outputs": [
    {
     "name": "stdout",
     "output_type": "stream",
     "text": [
      "load checkpoint from local path: /work/Swin-Transformer-Object-Detection/work_dirs/run/train2/epoch_3200.pth\n"
     ]
    }
   ],
   "source": [
    "# build the model from a config file and a checkpoint file\n",
    "model = init_detector(config_file, checkpoint_file, device='cuda:0')"
   ]
  },
  {
   "cell_type": "code",
   "execution_count": 5,
   "metadata": {},
   "outputs": [],
   "source": [
    "# test a single image\n",
    "img = '/work/data/tmp-test/tmp_0_1560_1440_3000.bmp'\n",
    "result = inference_detector(model, img)"
   ]
  },
  {
   "cell_type": "code",
   "execution_count": 6,
   "metadata": {},
   "outputs": [
    {
     "ename": "IndexError",
     "evalue": "list index out of range",
     "output_type": "error",
     "traceback": [
      "\u001b[0;31m---------------------------------------------------------------------------\u001b[0m",
      "\u001b[0;31mIndexError\u001b[0m                                Traceback (most recent call last)",
      "\u001b[1;32m/work/Swin-Transformer-Object-Detection/demo/inference_demo.ipynb Cell 5\u001b[0m in \u001b[0;36m<cell line: 2>\u001b[0;34m()\u001b[0m\n\u001b[1;32m      <a href='vscode-notebook-cell://attached-container%2B7b22636f6e7461696e65724e616d65223a222f7377696e222c2273657474696e6773223a7b22686f7374223a227373683a2f2f333039305f345f6e65775f3634227d7d/work/Swin-Transformer-Object-Detection/demo/inference_demo.ipynb#W4sdnNjb2RlLXJlbW90ZQ%3D%3D?line=0'>1</a>\u001b[0m \u001b[39m# show the results\u001b[39;00m\n\u001b[0;32m----> <a href='vscode-notebook-cell://attached-container%2B7b22636f6e7461696e65724e616d65223a222f7377696e222c2273657474696e6773223a7b22686f7374223a227373683a2f2f333039305f345f6e65775f3634227d7d/work/Swin-Transformer-Object-Detection/demo/inference_demo.ipynb#W4sdnNjb2RlLXJlbW90ZQ%3D%3D?line=1'>2</a>\u001b[0m show_result_pyplot(model, img, result)\n",
      "File \u001b[0;32m/work/Swin-Transformer-Object-Detection/mmdet/apis/inference.py:210\u001b[0m, in \u001b[0;36mshow_result_pyplot\u001b[0;34m(model, img, result, score_thr, title, wait_time, out_file)\u001b[0m\n\u001b[1;32m    208\u001b[0m \u001b[39mif\u001b[39;00m \u001b[39mhasattr\u001b[39m(model, \u001b[39m'\u001b[39m\u001b[39mmodule\u001b[39m\u001b[39m'\u001b[39m):\n\u001b[1;32m    209\u001b[0m     model \u001b[39m=\u001b[39m model\u001b[39m.\u001b[39mmodule\n\u001b[0;32m--> 210\u001b[0m img \u001b[39m=\u001b[39m model\u001b[39m.\u001b[39;49mshow_result(\n\u001b[1;32m    211\u001b[0m         img,\n\u001b[1;32m    212\u001b[0m         result,\n\u001b[1;32m    213\u001b[0m         score_thr\u001b[39m=\u001b[39;49mscore_thr,\n\u001b[1;32m    214\u001b[0m         show\u001b[39m=\u001b[39;49m\u001b[39mTrue\u001b[39;49;00m,\n\u001b[1;32m    215\u001b[0m         wait_time\u001b[39m=\u001b[39;49mwait_time,\n\u001b[1;32m    216\u001b[0m         win_name\u001b[39m=\u001b[39;49mtitle,\n\u001b[1;32m    217\u001b[0m         bbox_color\u001b[39m=\u001b[39;49m(\u001b[39m72\u001b[39;49m, \u001b[39m101\u001b[39;49m, \u001b[39m241\u001b[39;49m),\n\u001b[1;32m    218\u001b[0m         text_color\u001b[39m=\u001b[39;49m(\u001b[39m72\u001b[39;49m, \u001b[39m101\u001b[39;49m, \u001b[39m241\u001b[39;49m),\n\u001b[1;32m    219\u001b[0m         out_file\u001b[39m=\u001b[39;49mout_file)\n\u001b[1;32m    220\u001b[0m \u001b[39mreturn\u001b[39;00m img\n",
      "File \u001b[0;32m/work/Swin-Transformer-Object-Detection/mmdet/models/detectors/base.py:332\u001b[0m, in \u001b[0;36mBaseDetector.show_result\u001b[0;34m(self, img, result, score_thr, bbox_color, text_color, mask_color, thickness, font_size, win_name, show, wait_time, out_file)\u001b[0m\n\u001b[1;32m    330\u001b[0m \u001b[39mif\u001b[39;00m segm_result \u001b[39mis\u001b[39;00m \u001b[39mnot\u001b[39;00m \u001b[39mNone\u001b[39;00m \u001b[39mand\u001b[39;00m \u001b[39mlen\u001b[39m(labels) \u001b[39m>\u001b[39m \u001b[39m0\u001b[39m:  \u001b[39m# non empty\u001b[39;00m\n\u001b[1;32m    331\u001b[0m     segms \u001b[39m=\u001b[39m mmcv\u001b[39m.\u001b[39mconcat_list(segm_result)\n\u001b[0;32m--> 332\u001b[0m     \u001b[39mif\u001b[39;00m \u001b[39misinstance\u001b[39m(segms[\u001b[39m0\u001b[39;49m], torch\u001b[39m.\u001b[39mTensor):\n\u001b[1;32m    333\u001b[0m         segms \u001b[39m=\u001b[39m torch\u001b[39m.\u001b[39mstack(segms, dim\u001b[39m=\u001b[39m\u001b[39m0\u001b[39m)\u001b[39m.\u001b[39mdetach()\u001b[39m.\u001b[39mcpu()\u001b[39m.\u001b[39mnumpy()\n\u001b[1;32m    334\u001b[0m     \u001b[39melse\u001b[39;00m:\n",
      "\u001b[0;31mIndexError\u001b[0m: list index out of range"
     ]
    }
   ],
   "source": [
    "# show the results\n",
    "show_result_pyplot(model, img, result)"
   ]
  },
  {
   "cell_type": "code",
   "execution_count": null,
   "metadata": {},
   "outputs": [],
   "source": []
  }
 ],
 "metadata": {
  "kernelspec": {
   "display_name": "Python 3.8.13 64-bit",
   "language": "python",
   "name": "python3"
  },
  "language_info": {
   "codemirror_mode": {
    "name": "ipython",
    "version": 3
   },
   "file_extension": ".py",
   "mimetype": "text/x-python",
   "name": "python",
   "nbconvert_exporter": "python",
   "pygments_lexer": "ipython3",
   "version": "3.8.13-final"
  },
  "pycharm": {
   "stem_cell": {
    "cell_type": "raw",
    "metadata": {
     "collapsed": false
    },
    "source": []
   }
  },
  "vscode": {
   "interpreter": {
    "hash": "3fca74a1670040a1fd550f298bcb40e95bf83a2158090fa1153ea4c359e12ae2"
   }
  }
 },
 "nbformat": 4,
 "nbformat_minor": 4
}
